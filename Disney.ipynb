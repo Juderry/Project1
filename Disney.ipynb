{
 "cells": [
  {
   "cell_type": "code",
   "execution_count": 4,
   "id": "14b78af7",
   "metadata": {},
   "outputs": [],
   "source": [
    "import numpy as np\n",
    "import pandas as pd"
   ]
  },
  {
   "cell_type": "code",
   "execution_count": 5,
   "id": "a7b6be88",
   "metadata": {},
   "outputs": [
    {
     "name": "stdout",
     "output_type": "stream",
     "text": [
      "Disney Data Loaded Successfully!\n",
      "                         movie_title release_date      genre mpaa_rating  \\\n",
      "0    Snow White and the Seven Dwarfs   1937-12-21    Musical           G   \n",
      "1                          Pinocchio   1940-02-09  Adventure           G   \n",
      "2                           Fantasia   1940-11-13    Musical           G   \n",
      "3                  Song of the South   1946-11-12  Adventure           G   \n",
      "4                         Cinderella   1950-02-15      Drama           G   \n",
      "..                               ...          ...        ...         ...   \n",
      "574         The Light Between Oceans   2016-09-02      Drama       PG-13   \n",
      "575                   Queen of Katwe   2016-09-23      Drama          PG   \n",
      "576                   Doctor Strange   2016-11-04  Adventure       PG-13   \n",
      "577                            Moana   2016-11-23  Adventure          PG   \n",
      "578     Rogue One: A Star Wars Story   2016-12-16  Adventure       PG-13   \n",
      "\n",
      "     total_gross  inflation_adjusted_gross  \n",
      "0      184925485                5228953251  \n",
      "1       84300000                2188229052  \n",
      "2       83320000                2187090808  \n",
      "3       65000000                1078510579  \n",
      "4       85000000                 920608730  \n",
      "..           ...                       ...  \n",
      "574     12545979                  12545979  \n",
      "575      8874389                   8874389  \n",
      "576    232532923                 232532923  \n",
      "577    246082029                 246082029  \n",
      "578    529483936                 529483936  \n",
      "\n",
      "[579 rows x 6 columns]\n"
     ]
    }
   ],
   "source": [
    "#Disney Data\n",
    "\n",
    "disney_data = pd.read_csv(\"/Users/Judy/Downloads/disney_movies.csv\")\n",
    "print (\"Disney Data Loaded Successfully!\")\n",
    "print (disney_data)"
   ]
  },
  {
   "cell_type": "code",
   "execution_count": 4,
   "id": "dfdceb1f",
   "metadata": {},
   "outputs": [
    {
     "data": {
      "text/html": [
       "<div>\n",
       "<style scoped>\n",
       "    .dataframe tbody tr th:only-of-type {\n",
       "        vertical-align: middle;\n",
       "    }\n",
       "\n",
       "    .dataframe tbody tr th {\n",
       "        vertical-align: top;\n",
       "    }\n",
       "\n",
       "    .dataframe thead th {\n",
       "        text-align: right;\n",
       "    }\n",
       "</style>\n",
       "<table border=\"1\" class=\"dataframe\">\n",
       "  <thead>\n",
       "    <tr style=\"text-align: right;\">\n",
       "      <th></th>\n",
       "      <th>movie_title</th>\n",
       "      <th>release_date</th>\n",
       "      <th>genre</th>\n",
       "      <th>mpaa_rating</th>\n",
       "      <th>total_gross</th>\n",
       "      <th>inflation_adjusted_gross</th>\n",
       "    </tr>\n",
       "  </thead>\n",
       "  <tbody>\n",
       "    <tr>\n",
       "      <th>0</th>\n",
       "      <td>Snow White and the Seven Dwarfs</td>\n",
       "      <td>1937-12-21</td>\n",
       "      <td>Musical</td>\n",
       "      <td>G</td>\n",
       "      <td>184925485</td>\n",
       "      <td>5228953251</td>\n",
       "    </tr>\n",
       "    <tr>\n",
       "      <th>1</th>\n",
       "      <td>Pinocchio</td>\n",
       "      <td>1940-02-09</td>\n",
       "      <td>Adventure</td>\n",
       "      <td>G</td>\n",
       "      <td>84300000</td>\n",
       "      <td>2188229052</td>\n",
       "    </tr>\n",
       "    <tr>\n",
       "      <th>2</th>\n",
       "      <td>Fantasia</td>\n",
       "      <td>1940-11-13</td>\n",
       "      <td>Musical</td>\n",
       "      <td>G</td>\n",
       "      <td>83320000</td>\n",
       "      <td>2187090808</td>\n",
       "    </tr>\n",
       "    <tr>\n",
       "      <th>3</th>\n",
       "      <td>Song of the South</td>\n",
       "      <td>1946-11-12</td>\n",
       "      <td>Adventure</td>\n",
       "      <td>G</td>\n",
       "      <td>65000000</td>\n",
       "      <td>1078510579</td>\n",
       "    </tr>\n",
       "    <tr>\n",
       "      <th>4</th>\n",
       "      <td>Cinderella</td>\n",
       "      <td>1950-02-15</td>\n",
       "      <td>Drama</td>\n",
       "      <td>G</td>\n",
       "      <td>85000000</td>\n",
       "      <td>920608730</td>\n",
       "    </tr>\n",
       "  </tbody>\n",
       "</table>\n",
       "</div>"
      ],
      "text/plain": [
       "                       movie_title release_date      genre mpaa_rating  \\\n",
       "0  Snow White and the Seven Dwarfs   1937-12-21    Musical           G   \n",
       "1                        Pinocchio   1940-02-09  Adventure           G   \n",
       "2                         Fantasia   1940-11-13    Musical           G   \n",
       "3                Song of the South   1946-11-12  Adventure           G   \n",
       "4                       Cinderella   1950-02-15      Drama           G   \n",
       "\n",
       "   total_gross  inflation_adjusted_gross  \n",
       "0    184925485                5228953251  \n",
       "1     84300000                2188229052  \n",
       "2     83320000                2187090808  \n",
       "3     65000000                1078510579  \n",
       "4     85000000                 920608730  "
      ]
     },
     "execution_count": 4,
     "metadata": {},
     "output_type": "execute_result"
    }
   ],
   "source": [
    "disney_data.head()"
   ]
  },
  {
   "cell_type": "code",
   "execution_count": 5,
   "id": "2c2a6e19",
   "metadata": {},
   "outputs": [
    {
     "name": "stdout",
     "output_type": "stream",
     "text": [
      "<class 'pandas.core.frame.DataFrame'>\n",
      "RangeIndex: 579 entries, 0 to 578\n",
      "Data columns (total 6 columns):\n",
      " #   Column                    Non-Null Count  Dtype \n",
      "---  ------                    --------------  ----- \n",
      " 0   movie_title               579 non-null    object\n",
      " 1   release_date              579 non-null    object\n",
      " 2   genre                     562 non-null    object\n",
      " 3   mpaa_rating               523 non-null    object\n",
      " 4   total_gross               579 non-null    int64 \n",
      " 5   inflation_adjusted_gross  579 non-null    int64 \n",
      "dtypes: int64(2), object(4)\n",
      "memory usage: 27.3+ KB\n"
     ]
    }
   ],
   "source": [
    "disney_data.info()"
   ]
  },
  {
   "cell_type": "code",
   "execution_count": 6,
   "id": "8a8b9b1f",
   "metadata": {},
   "outputs": [
    {
     "data": {
      "text/plain": [
       "Comedy                 182\n",
       "Adventure              129\n",
       "Drama                  114\n",
       "Action                  40\n",
       "Thriller/Suspense       24\n",
       "Romantic Comedy         23\n",
       "Documentary             16\n",
       "Musical                 16\n",
       "Western                  7\n",
       "Horror                   6\n",
       "Black Comedy             3\n",
       "Concert/Performance      2\n",
       "Name: genre, dtype: int64"
      ]
     },
     "execution_count": 6,
     "metadata": {},
     "output_type": "execute_result"
    }
   ],
   "source": [
    "disney_data['genre'].value_counts()"
   ]
  },
  {
   "cell_type": "code",
   "execution_count": 7,
   "id": "505a79ec",
   "metadata": {},
   "outputs": [
    {
     "data": {
      "text/plain": [
       "PG           187\n",
       "PG-13        145\n",
       "R            102\n",
       "G             86\n",
       "Not Rated      3\n",
       "Name: mpaa_rating, dtype: int64"
      ]
     },
     "execution_count": 7,
     "metadata": {},
     "output_type": "execute_result"
    }
   ],
   "source": [
    "disney_data['mpaa_rating'].value_counts()"
   ]
  },
  {
   "cell_type": "code",
   "execution_count": 12,
   "id": "36efc4aa",
   "metadata": {},
   "outputs": [
    {
     "data": {
      "text/html": [
       "<div>\n",
       "<style scoped>\n",
       "    .dataframe tbody tr th:only-of-type {\n",
       "        vertical-align: middle;\n",
       "    }\n",
       "\n",
       "    .dataframe tbody tr th {\n",
       "        vertical-align: top;\n",
       "    }\n",
       "\n",
       "    .dataframe thead th {\n",
       "        text-align: right;\n",
       "    }\n",
       "</style>\n",
       "<table border=\"1\" class=\"dataframe\">\n",
       "  <thead>\n",
       "    <tr style=\"text-align: right;\">\n",
       "      <th></th>\n",
       "      <th>Movie Title</th>\n",
       "      <th>Release Date</th>\n",
       "      <th>Genre</th>\n",
       "      <th>MPAA Rating</th>\n",
       "      <th>Total Gross</th>\n",
       "      <th>Inflation Adjusted Gross</th>\n",
       "    </tr>\n",
       "  </thead>\n",
       "  <tbody>\n",
       "    <tr>\n",
       "      <th>0</th>\n",
       "      <td>Snow White and the Seven Dwarfs</td>\n",
       "      <td>1937-12-21</td>\n",
       "      <td>Musical</td>\n",
       "      <td>G</td>\n",
       "      <td>184925485</td>\n",
       "      <td>5228953251</td>\n",
       "    </tr>\n",
       "    <tr>\n",
       "      <th>1</th>\n",
       "      <td>Pinocchio</td>\n",
       "      <td>1940-02-09</td>\n",
       "      <td>Adventure</td>\n",
       "      <td>G</td>\n",
       "      <td>84300000</td>\n",
       "      <td>2188229052</td>\n",
       "    </tr>\n",
       "    <tr>\n",
       "      <th>2</th>\n",
       "      <td>Fantasia</td>\n",
       "      <td>1940-11-13</td>\n",
       "      <td>Musical</td>\n",
       "      <td>G</td>\n",
       "      <td>83320000</td>\n",
       "      <td>2187090808</td>\n",
       "    </tr>\n",
       "    <tr>\n",
       "      <th>3</th>\n",
       "      <td>Song of the South</td>\n",
       "      <td>1946-11-12</td>\n",
       "      <td>Adventure</td>\n",
       "      <td>G</td>\n",
       "      <td>65000000</td>\n",
       "      <td>1078510579</td>\n",
       "    </tr>\n",
       "    <tr>\n",
       "      <th>4</th>\n",
       "      <td>Cinderella</td>\n",
       "      <td>1950-02-15</td>\n",
       "      <td>Drama</td>\n",
       "      <td>G</td>\n",
       "      <td>85000000</td>\n",
       "      <td>920608730</td>\n",
       "    </tr>\n",
       "  </tbody>\n",
       "</table>\n",
       "</div>"
      ],
      "text/plain": [
       "                       Movie Title Release Date      Genre MPAA Rating  \\\n",
       "0  Snow White and the Seven Dwarfs   1937-12-21    Musical           G   \n",
       "1                        Pinocchio   1940-02-09  Adventure           G   \n",
       "2                         Fantasia   1940-11-13    Musical           G   \n",
       "3                Song of the South   1946-11-12  Adventure           G   \n",
       "4                       Cinderella   1950-02-15      Drama           G   \n",
       "\n",
       "   Total Gross  Inflation Adjusted Gross  \n",
       "0    184925485                5228953251  \n",
       "1     84300000                2188229052  \n",
       "2     83320000                2187090808  \n",
       "3     65000000                1078510579  \n",
       "4     85000000                 920608730  "
      ]
     },
     "execution_count": 12,
     "metadata": {},
     "output_type": "execute_result"
    }
   ],
   "source": [
    "new_name = {'movie_title' : 'Movie Title', \"release_date\" : 'Release Date', 'genre' : 'Genre', 'mpaa_rating' : 'MPAA Rating', 'total_gross' : 'Total Gross', 'inflation_adjusted_gross' : 'Inflation Adjusted Gross'}\n",
    "\n",
    "disney_data.rename(columns= new_name, inplace=True)\n",
    "disney_data.head()"
   ]
  },
  {
   "cell_type": "code",
   "execution_count": null,
   "id": "1aa0e0e3",
   "metadata": {},
   "outputs": [],
   "source": [
    "#Question 1. A MPAA Rating of G has a greater gross revenue with inflation over other MPAA Ratings."
   ]
  },
  {
   "cell_type": "code",
   "execution_count": 11,
   "id": "4df58285",
   "metadata": {},
   "outputs": [
    {
     "name": "stdout",
     "output_type": "stream",
     "text": [
      "                         movie_title release_date      genre mpaa_rating  \\\n",
      "0    Snow White and the Seven Dwarfs   1937-12-21    Musical           G   \n",
      "1                          Pinocchio   1940-02-09  Adventure           G   \n",
      "2                           Fantasia   1940-11-13    Musical           G   \n",
      "3                  Song of the South   1946-11-12  Adventure           G   \n",
      "4                         Cinderella   1950-02-15      Drama           G   \n",
      "..                               ...          ...        ...         ...   \n",
      "574         The Light Between Oceans   2016-09-02      Drama       PG-13   \n",
      "575                   Queen of Katwe   2016-09-23      Drama          PG   \n",
      "576                   Doctor Strange   2016-11-04  Adventure       PG-13   \n",
      "577                            Moana   2016-11-23  Adventure          PG   \n",
      "578     Rogue One: A Star Wars Story   2016-12-16  Adventure       PG-13   \n",
      "\n",
      "     total_gross  inflation_adjusted_gross  \n",
      "0      184925485                5228953251  \n",
      "1       84300000                2188229052  \n",
      "2       83320000                2187090808  \n",
      "3       65000000                1078510579  \n",
      "4       85000000                 920608730  \n",
      "..           ...                       ...  \n",
      "574     12545979                  12545979  \n",
      "575      8874389                   8874389  \n",
      "576    232532923                 232532923  \n",
      "577    246082029                 246082029  \n",
      "578    529483936                 529483936  \n",
      "\n",
      "[579 rows x 6 columns]\n"
     ]
    }
   ],
   "source": [
    "df = pd.read_csv(\"/Users/Judy/Downloads/disney_movies.csv\")\n",
    "print(df)"
   ]
  },
  {
   "cell_type": "code",
   "execution_count": 16,
   "id": "a815ceb2",
   "metadata": {},
   "outputs": [
    {
     "name": "stdout",
     "output_type": "stream",
     "text": [
      "                         movie_title release_date        genre mpaa_rating  \\\n",
      "0    Snow White and the Seven Dwarfs   1937-12-21      Musical           G   \n",
      "1                          Pinocchio   1940-02-09    Adventure           G   \n",
      "2                           Fantasia   1940-11-13      Musical           G   \n",
      "3                  Song of the South   1946-11-12    Adventure           G   \n",
      "4                         Cinderella   1950-02-15        Drama           G   \n",
      "..                               ...          ...          ...         ...   \n",
      "523                       Chimpanzee   2012-04-20  Documentary           G   \n",
      "533              Monsters University   2013-06-21    Adventure           G   \n",
      "545                            Bears   2014-04-18  Documentary           G   \n",
      "557                   Monkey Kingdom   2015-04-17  Documentary           G   \n",
      "568               A Beautiful Planet   2016-04-29  Documentary           G   \n",
      "\n",
      "     total_gross  inflation_adjusted_gross  \n",
      "0      184925485                5228953251  \n",
      "1       84300000                2188229052  \n",
      "2       83320000                2187090808  \n",
      "3       65000000                1078510579  \n",
      "4       85000000                 920608730  \n",
      "..           ...                       ...  \n",
      "523     28965459                  30675725  \n",
      "533    268488329                 278395641  \n",
      "545     17780194                  18346024  \n",
      "557     16432322                  16432322  \n",
      "568      7895708                   7895708  \n",
      "\n",
      "[86 rows x 6 columns]\n"
     ]
    }
   ],
   "source": [
    "value_list = [\"G\"]\n",
    "boolean_series = df.mpaa_rating.isin(value_list)\n",
    "filtered_df = df[boolean_series]\n",
    "\n",
    "print(filtered_df)"
   ]
  },
  {
   "cell_type": "code",
   "execution_count": 21,
   "id": "0525368d",
   "metadata": {},
   "outputs": [
    {
     "data": {
      "text/plain": [
       "291260995.0116279"
      ]
     },
     "execution_count": 21,
     "metadata": {},
     "output_type": "execute_result"
    }
   ],
   "source": [
    "filtered_df['inflation_adjusted_gross'].mean()"
   ]
  },
  {
   "cell_type": "code",
   "execution_count": 15,
   "id": "b6bc6a09",
   "metadata": {},
   "outputs": [
    {
     "name": "stdout",
     "output_type": "stream",
     "text": [
      "                      movie_title release_date      genre mpaa_rating  \\\n",
      "5    20,000 Leagues Under the Sea   1954-12-23  Adventure         NaN   \n",
      "7                 Sleeping Beauty   1959-01-29      Drama         NaN   \n",
      "9     The Absent Minded Professor   1961-03-16     Comedy         NaN   \n",
      "11                    Bon Voyage!   1962-05-17     Comedy   Not Rated   \n",
      "12         The Sword in the Stone   1963-12-25  Adventure         NaN   \n",
      "..                            ...          ...        ...         ...   \n",
      "574      The Light Between Oceans   2016-09-02      Drama       PG-13   \n",
      "575                Queen of Katwe   2016-09-23      Drama          PG   \n",
      "576                Doctor Strange   2016-11-04  Adventure       PG-13   \n",
      "577                         Moana   2016-11-23  Adventure          PG   \n",
      "578  Rogue One: A Star Wars Story   2016-12-16  Adventure       PG-13   \n",
      "\n",
      "     total_gross  inflation_adjusted_gross  \n",
      "5       28200000                 528279994  \n",
      "7        9464608                  21505832  \n",
      "9       25381407                 310094574  \n",
      "11       9230769                 109581646  \n",
      "12      22182353                 153870834  \n",
      "..           ...                       ...  \n",
      "574     12545979                  12545979  \n",
      "575      8874389                   8874389  \n",
      "576    232532923                 232532923  \n",
      "577    246082029                 246082029  \n",
      "578    529483936                 529483936  \n",
      "\n",
      "[493 rows x 6 columns]\n"
     ]
    }
   ],
   "source": [
    "inverse_boolean_series = ~df.mpaa_rating.isin(value_list)\n",
    "inverse_filtered_df = df[inverse_boolean_series]\n",
    "\n",
    "print(inverse_filtered_df)"
   ]
  },
  {
   "cell_type": "code",
   "execution_count": 22,
   "id": "fd14264a",
   "metadata": {},
   "outputs": [
    {
     "data": {
      "text/plain": [
       "88671512.02028398"
      ]
     },
     "execution_count": 22,
     "metadata": {},
     "output_type": "execute_result"
    }
   ],
   "source": [
    "inverse_filtered_df['inflation_adjusted_gross'].mean()"
   ]
  },
  {
   "cell_type": "code",
   "execution_count": null,
   "id": "2c580a1a",
   "metadata": {},
   "outputs": [],
   "source": [
    "#Answer: True, G rating result in $291,260,995 vs Non-G rating result $88,671,512 with adjustment for inflation"
   ]
  },
  {
   "cell_type": "code",
   "execution_count": null,
   "id": "83a8523c",
   "metadata": {},
   "outputs": [],
   "source": [
    "#Question 2. Highest Grossing Films are within the Comedy Genre"
   ]
  },
  {
   "cell_type": "code",
   "execution_count": 23,
   "id": "6a4482cc",
   "metadata": {},
   "outputs": [
    {
     "name": "stdout",
     "output_type": "stream",
     "text": [
      "                         movie_title release_date      genre mpaa_rating  \\\n",
      "0    Snow White and the Seven Dwarfs   1937-12-21    Musical           G   \n",
      "1                          Pinocchio   1940-02-09  Adventure           G   \n",
      "2                           Fantasia   1940-11-13    Musical           G   \n",
      "3                  Song of the South   1946-11-12  Adventure           G   \n",
      "4                         Cinderella   1950-02-15      Drama           G   \n",
      "..                               ...          ...        ...         ...   \n",
      "574         The Light Between Oceans   2016-09-02      Drama       PG-13   \n",
      "575                   Queen of Katwe   2016-09-23      Drama          PG   \n",
      "576                   Doctor Strange   2016-11-04  Adventure       PG-13   \n",
      "577                            Moana   2016-11-23  Adventure          PG   \n",
      "578     Rogue One: A Star Wars Story   2016-12-16  Adventure       PG-13   \n",
      "\n",
      "     total_gross  inflation_adjusted_gross  \n",
      "0      184925485                5228953251  \n",
      "1       84300000                2188229052  \n",
      "2       83320000                2187090808  \n",
      "3       65000000                1078510579  \n",
      "4       85000000                 920608730  \n",
      "..           ...                       ...  \n",
      "574     12545979                  12545979  \n",
      "575      8874389                   8874389  \n",
      "576    232532923                 232532923  \n",
      "577    246082029                 246082029  \n",
      "578    529483936                 529483936  \n",
      "\n",
      "[579 rows x 6 columns]\n"
     ]
    }
   ],
   "source": [
    "df = pd.read_csv(\"/Users/Judy/Downloads/disney_movies.csv\")\n",
    "print(df)"
   ]
  },
  {
   "cell_type": "code",
   "execution_count": 25,
   "id": "51355111",
   "metadata": {},
   "outputs": [
    {
     "name": "stdout",
     "output_type": "stream",
     "text": [
      "                                movie_title release_date   genre mpaa_rating  \\\n",
      "8                            101 Dalmatians   1961-01-25  Comedy           G   \n",
      "9               The Absent Minded Professor   1961-03-16  Comedy         NaN   \n",
      "11                              Bon Voyage!   1962-05-17  Comedy   Not Rated   \n",
      "14                       Blackbeard's Ghost   1968-02-08  Comedy         NaN   \n",
      "16                             The Boatniks   1970-07-01  Comedy         NaN   \n",
      "..                                      ...          ...     ...         ...   \n",
      "528                           Frankenweenie   2012-10-05  Comedy          PG   \n",
      "535                           Disney Planes   2013-08-09  Comedy          PG   \n",
      "540                            Delivery Man   2013-11-22  Comedy       PG-13   \n",
      "543                     Muppets Most Wanted   2014-03-21  Comedy          PG   \n",
      "551  Alexander and the Terrible, Horrible,…   2014-10-10  Comedy          PG   \n",
      "\n",
      "     total_gross  inflation_adjusted_gross  \n",
      "8      153000000                1362870985  \n",
      "9       25381407                 310094574  \n",
      "11       9230769                 109581646  \n",
      "14      21540050                 138612686  \n",
      "16      18607492                 101200742  \n",
      "..           ...                       ...  \n",
      "528     35287788                  37363513  \n",
      "535     90282580                  93614037  \n",
      "540     30659817                  31787136  \n",
      "543     51178893                  52807594  \n",
      "551     66954149                  69055550  \n",
      "\n",
      "[182 rows x 6 columns]\n"
     ]
    }
   ],
   "source": [
    "value_list = [\"Comedy\"]\n",
    "boolean_series = df.genre.isin(value_list)\n",
    "filteredgenre_df = df[boolean_series]\n",
    "\n",
    "print(filteredgenre_df)"
   ]
  },
  {
   "cell_type": "code",
   "execution_count": 29,
   "id": "aa184494",
   "metadata": {},
   "outputs": [
    {
     "data": {
      "text/plain": [
       "44613294.93406593"
      ]
     },
     "execution_count": 29,
     "metadata": {},
     "output_type": "execute_result"
    }
   ],
   "source": [
    "filteredgenre_df['total_gross'].mean()"
   ]
  },
  {
   "cell_type": "code",
   "execution_count": 27,
   "id": "7703e84b",
   "metadata": {},
   "outputs": [
    {
     "name": "stdout",
     "output_type": "stream",
     "text": [
      "                         movie_title release_date      genre mpaa_rating  \\\n",
      "0    Snow White and the Seven Dwarfs   1937-12-21    Musical           G   \n",
      "1                          Pinocchio   1940-02-09  Adventure           G   \n",
      "2                           Fantasia   1940-11-13    Musical           G   \n",
      "3                  Song of the South   1946-11-12  Adventure           G   \n",
      "4                         Cinderella   1950-02-15      Drama           G   \n",
      "..                               ...          ...        ...         ...   \n",
      "574         The Light Between Oceans   2016-09-02      Drama       PG-13   \n",
      "575                   Queen of Katwe   2016-09-23      Drama          PG   \n",
      "576                   Doctor Strange   2016-11-04  Adventure       PG-13   \n",
      "577                            Moana   2016-11-23  Adventure          PG   \n",
      "578     Rogue One: A Star Wars Story   2016-12-16  Adventure       PG-13   \n",
      "\n",
      "     total_gross  inflation_adjusted_gross  \n",
      "0      184925485                5228953251  \n",
      "1       84300000                2188229052  \n",
      "2       83320000                2187090808  \n",
      "3       65000000                1078510579  \n",
      "4       85000000                 920608730  \n",
      "..           ...                       ...  \n",
      "574     12545979                  12545979  \n",
      "575      8874389                   8874389  \n",
      "576    232532923                 232532923  \n",
      "577    246082029                 246082029  \n",
      "578    529483936                 529483936  \n",
      "\n",
      "[397 rows x 6 columns]\n"
     ]
    }
   ],
   "source": [
    "inverse_boolean_series = ~df.genre.isin(value_list)\n",
    "inverse_filteredgenre_df = df[inverse_boolean_series]\n",
    "\n",
    "print(inverse_filteredgenre_df)"
   ]
  },
  {
   "cell_type": "code",
   "execution_count": 30,
   "id": "849623bc",
   "metadata": {},
   "outputs": [
    {
     "data": {
      "text/plain": [
       "73911123.11083123"
      ]
     },
     "execution_count": 30,
     "metadata": {},
     "output_type": "execute_result"
    }
   ],
   "source": [
    "inverse_filteredgenre_df['total_gross'].mean()"
   ]
  },
  {
   "cell_type": "code",
   "execution_count": null,
   "id": "0be99ad6",
   "metadata": {},
   "outputs": [],
   "source": [
    "#Answer - False, Comedy gross is 44,613,295 vs  Non-comedy total gross is 73,911,123"
   ]
  },
  {
   "cell_type": "code",
   "execution_count": 18,
   "id": "934fbe80",
   "metadata": {},
   "outputs": [
    {
     "name": "stdout",
     "output_type": "stream",
     "text": [
      "                         Movie Title Release Date      Genre MPAA Rating  \\\n",
      "0    Snow White and the Seven Dwarfs   1937-12-21    Musical           G   \n",
      "1                          Pinocchio   1940-02-09  Adventure           G   \n",
      "2                           Fantasia   1940-11-13    Musical           G   \n",
      "3                  Song of the South   1946-11-12  Adventure           G   \n",
      "4                         Cinderella   1950-02-15      Drama           G   \n",
      "..                               ...          ...        ...         ...   \n",
      "574         The Light Between Oceans   2016-09-02      Drama       PG-13   \n",
      "575                   Queen of Katwe   2016-09-23      Drama          PG   \n",
      "576                   Doctor Strange   2016-11-04  Adventure       PG-13   \n",
      "577                            Moana   2016-11-23  Adventure          PG   \n",
      "578     Rogue One: A Star Wars Story   2016-12-16  Adventure       PG-13   \n",
      "\n",
      "     Total Gross  Inflation Adjusted Gross       avg_num  \n",
      "0      184925485                5228953251  5.228953e+09  \n",
      "1       84300000                2188229052  2.188229e+09  \n",
      "2       83320000                2187090808  2.187091e+09  \n",
      "3       65000000                1078510579  1.078511e+09  \n",
      "4       85000000                 920608730  9.206087e+08  \n",
      "..           ...                       ...           ...  \n",
      "574     12545979                  12545979  1.254598e+07  \n",
      "575      8874389                   8874389  8.874389e+06  \n",
      "576    232532923                 232532923  2.325329e+08  \n",
      "577    246082029                 246082029  2.460820e+08  \n",
      "578    529483936                 529483936  5.294839e+08  \n",
      "\n",
      "[579 rows x 7 columns]\n"
     ]
    }
   ],
   "source": [
    "#Question 3. Disney Films Released prior to 1989 have a lower gross per film compared to those released during and after 1989\n"
   ]
  },
  {
   "cell_type": "code",
   "execution_count": 33,
   "id": "a5aeb988",
   "metadata": {},
   "outputs": [
    {
     "name": "stdout",
     "output_type": "stream",
     "text": [
      "                         movie_title release_date      genre mpaa_rating  \\\n",
      "0    Snow White and the Seven Dwarfs   1937-12-21    Musical           G   \n",
      "1                          Pinocchio   1940-02-09  Adventure           G   \n",
      "2                           Fantasia   1940-11-13    Musical           G   \n",
      "3                  Song of the South   1946-11-12  Adventure           G   \n",
      "4                         Cinderella   1950-02-15      Drama           G   \n",
      "..                               ...          ...        ...         ...   \n",
      "574         The Light Between Oceans   2016-09-02      Drama       PG-13   \n",
      "575                   Queen of Katwe   2016-09-23      Drama          PG   \n",
      "576                   Doctor Strange   2016-11-04  Adventure       PG-13   \n",
      "577                            Moana   2016-11-23  Adventure          PG   \n",
      "578     Rogue One: A Star Wars Story   2016-12-16  Adventure       PG-13   \n",
      "\n",
      "     total_gross  inflation_adjusted_gross  \n",
      "0      184925485                5228953251  \n",
      "1       84300000                2188229052  \n",
      "2       83320000                2187090808  \n",
      "3       65000000                1078510579  \n",
      "4       85000000                 920608730  \n",
      "..           ...                       ...  \n",
      "574     12545979                  12545979  \n",
      "575      8874389                   8874389  \n",
      "576    232532923                 232532923  \n",
      "577    246082029                 246082029  \n",
      "578    529483936                 529483936  \n",
      "\n",
      "[579 rows x 6 columns]\n"
     ]
    }
   ],
   "source": [
    "df = pd.read_csv(\"/Users/Judy/Downloads/disney_movies.csv\")\n",
    "print(df)"
   ]
  },
  {
   "cell_type": "code",
   "execution_count": 46,
   "id": "84e82024",
   "metadata": {},
   "outputs": [
    {
     "name": "stdout",
     "output_type": "stream",
     "text": [
      "                        movie_title release_date      genre mpaa_rating  \\\n",
      "0   Snow White and the Seven Dwarfs   1937-12-21    Musical           G   \n",
      "1                         Pinocchio   1940-02-09  Adventure           G   \n",
      "2                          Fantasia   1940-11-13    Musical           G   \n",
      "3                 Song of the South   1946-11-12  Adventure           G   \n",
      "4                        Cinderella   1950-02-15      Drama           G   \n",
      "..                              ...          ...        ...         ...   \n",
      "69                 Heartbreak Hotel   1988-09-30     Comedy         NaN   \n",
      "70                  The Good Mother   1988-11-04      Drama         NaN   \n",
      "71           Ernest Saves Christmas   1988-11-11     Comedy          PG   \n",
      "72                 Oliver & Company   1988-11-18  Adventure           G   \n",
      "73                          Beaches   1988-12-21      Drama       PG-13   \n",
      "\n",
      "    total_gross  inflation_adjusted_gross       Dates  \n",
      "0     184925485                5228953251  1937-12-21  \n",
      "1      84300000                2188229052  1940-02-09  \n",
      "2      83320000                2187090808  1940-11-13  \n",
      "3      65000000                1078510579  1946-11-12  \n",
      "4      85000000                 920608730  1950-02-15  \n",
      "..          ...                       ...         ...  \n",
      "69      5509417                  11300331  1988-09-30  \n",
      "70      4764606                   9772655  1988-11-04  \n",
      "71     28202109                  57845202  1988-11-11  \n",
      "72     49576671                 102254492  1988-11-18  \n",
      "73     57041866                 120381757  1988-12-21  \n",
      "\n",
      "[74 rows x 7 columns]\n"
     ]
    }
   ],
   "source": [
    "df = pd.read_csv(\"/Users/Judy/Downloads/disney_movies.csv\")\n",
    "df['Dates'] = pd.to_datetime(df['release_date']).dt.date\n",
    "\n",
    "filtereddate_df = df.loc[(df['release_date'] >= '1937-12-21')\n",
    "                     & (df['release_date'] < '1989-01-01')]\n",
    "\n",
    "print(filtereddate_df)"
   ]
  },
  {
   "cell_type": "code",
   "execution_count": 45,
   "id": "d343bdb6",
   "metadata": {},
   "outputs": [
    {
     "data": {
      "text/plain": [
       "283518216.027027"
      ]
     },
     "execution_count": 45,
     "metadata": {},
     "output_type": "execute_result"
    }
   ],
   "source": [
    "filtereddate_df['inflation_adjusted_gross'].mean()"
   ]
  },
  {
   "cell_type": "code",
   "execution_count": 49,
   "id": "174cddbc",
   "metadata": {},
   "outputs": [
    {
     "name": "stdout",
     "output_type": "stream",
     "text": [
      "                      movie_title release_date      genre mpaa_rating  \\\n",
      "74                Three Fugitives   1989-01-27     Comedy       PG-13   \n",
      "75               New York Stories   1989-03-01      Drama          PG   \n",
      "76             Disorganized Crime   1989-04-14     Comedy         NaN   \n",
      "77             Dead Poets Society   1989-06-02      Drama          PG   \n",
      "78       Honey, I Shrunk the Kids   1989-06-23  Adventure          PG   \n",
      "..                            ...          ...        ...         ...   \n",
      "574      The Light Between Oceans   2016-09-02      Drama       PG-13   \n",
      "575                Queen of Katwe   2016-09-23      Drama          PG   \n",
      "576                Doctor Strange   2016-11-04  Adventure       PG-13   \n",
      "577                         Moana   2016-11-23  Adventure          PG   \n",
      "578  Rogue One: A Star Wars Story   2016-12-16  Adventure       PG-13   \n",
      "\n",
      "     total_gross  inflation_adjusted_gross       Dates  \n",
      "74      40590000                  85757817  1989-01-27  \n",
      "75      10763469                  22740861  1989-03-01  \n",
      "76       7210149                  15233465  1989-04-14  \n",
      "77      95860116                 202531517  1989-06-02  \n",
      "78     130724172                 276191669  1989-06-23  \n",
      "..           ...                       ...         ...  \n",
      "574     12545979                  12545979  2016-09-02  \n",
      "575      8874389                   8874389  2016-09-23  \n",
      "576    232532923                 232532923  2016-11-04  \n",
      "577    246082029                 246082029  2016-11-23  \n",
      "578    529483936                 529483936  2016-12-16  \n",
      "\n",
      "[505 rows x 7 columns]\n"
     ]
    }
   ],
   "source": [
    "df = pd.read_csv(\"/Users/Judy/Downloads/disney_movies.csv\")\n",
    "df['Dates'] = pd.to_datetime(df['release_date']).dt.date\n",
    "\n",
    "filteredinvdate_df = df.loc[(df['release_date'] >= '1989-01-01')\n",
    "                     & (df['release_date'] < '2021-01-01')]\n",
    "\n",
    "print(filteredinvdate_df)"
   ]
  },
  {
   "cell_type": "code",
   "execution_count": 51,
   "id": "bf6e7420",
   "metadata": {},
   "outputs": [
    {
     "data": {
      "text/plain": [
       "47783153011"
      ]
     },
     "execution_count": 51,
     "metadata": {},
     "output_type": "execute_result"
    }
   ],
   "source": [
    "filteredinvdate_df['inflation_adjusted_gross'].mean()"
   ]
  },
  {
   "cell_type": "code",
   "execution_count": null,
   "id": "3cc09685",
   "metadata": {},
   "outputs": [],
   "source": [
    "#Answer - False, Before 01-01-1989 = $283,518,216 and After 01-01-1989 = $94,620,104"
   ]
  }
 ],
 "metadata": {
  "kernelspec": {
   "display_name": "Python 3",
   "language": "python",
   "name": "python3"
  },
  "language_info": {
   "codemirror_mode": {
    "name": "ipython",
    "version": 3
   },
   "file_extension": ".py",
   "mimetype": "text/x-python",
   "name": "python",
   "nbconvert_exporter": "python",
   "pygments_lexer": "ipython3",
   "version": "3.8.8"
  }
 },
 "nbformat": 4,
 "nbformat_minor": 5
}
