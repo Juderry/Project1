{
 "cells": [
  {
   "cell_type": "markdown",
   "id": "69eb739f",
   "metadata": {},
   "source": [
    "# The Magic of Disney"
   ]
  },
  {
   "cell_type": "markdown",
   "id": "7da85e5c",
   "metadata": {},
   "source": [
    "by Judith Terry"
   ]
  },
  {
   "cell_type": "markdown",
   "id": "88f3fa93",
   "metadata": {},
   "source": [
    "## Business Understanding"
   ]
  },
  {
   "cell_type": "markdown",
   "id": "810e57dc",
   "metadata": {},
   "source": [
    "- Brief description\n",
    "    - From 1937 to 2016, the Walt Disney Company produced 579 films that include a wealth of information on gross revenue generation compared to release date, mpaa rating and film genre. \n",
    "\n",
    "- Question 1\n",
    "    - A MPAA Rating of PG has a greater gross revenue with inflation over other MPAA Ratings.\n",
    "- Question 2\n",
    "    - Highest Grossing Films are within the Comedy Genre\n",
    "- Question 3\n",
    "    - Disney Films Released before 01-01-1986 have a lower gross per film compared to those released during and after this date"
   ]
  },
  {
   "cell_type": "markdown",
   "id": "9514cb89",
   "metadata": {},
   "source": [
    "## Data Understanding"
   ]
  },
  {
   "cell_type": "markdown",
   "id": "5cb8d6f2",
   "metadata": {},
   "source": [
    "### Data Sources\n",
    "- Disney Movies 1937-2016 Gross Income\n",
    "- https://www.kaggle.com/rashikrahmanpritom/disney-movies-19372016-total-gross?select=disney_movies_total_gross.csv"
   ]
  },
  {
   "cell_type": "markdown",
   "id": "eb0482f4",
   "metadata": {},
   "source": [
    "### Gather"
   ]
  },
  {
   "cell_type": "code",
   "execution_count": 67,
   "id": "14b78af7",
   "metadata": {},
   "outputs": [],
   "source": [
    "import numpy as np\n",
    "import pandas as pd"
   ]
  },
  {
   "cell_type": "markdown",
   "id": "d857f85c",
   "metadata": {},
   "source": [
    "### File Locations"
   ]
  },
  {
   "cell_type": "code",
   "execution_count": 119,
   "id": "a7b6be88",
   "metadata": {},
   "outputs": [],
   "source": [
    "disney_data = pd.read_csv(\"/Users/Judy/Downloads/disney_movies_total_gross.csv\")\n",
    "\n",
    "print (disney_data)"
   ]
  },
  {
   "cell_type": "markdown",
   "id": "375cac76",
   "metadata": {},
   "source": [
    "### Function"
   ]
  },
  {
   "cell_type": "code",
   "execution_count": 130,
   "id": "9d048272",
   "metadata": {},
   "outputs": [
    {
     "name": "stdout",
     "output_type": "stream",
     "text": [
      "Disney Data Loaded Successfully!\n"
     ]
    }
   ],
   "source": [
    "Message = 'Disney Data Loaded Successfully!'\n",
    "\n",
    "# print the string message\n",
    "print(Message)"
   ]
  },
  {
   "cell_type": "markdown",
   "id": "313da2a9",
   "metadata": {},
   "source": [
    "### Assess"
   ]
  },
  {
   "cell_type": "markdown",
   "id": "116d46fd",
   "metadata": {},
   "source": [
    "- Data.head()\n",
    "    - Review First Rows in the Dataset to evaluate if data appears correctly"
   ]
  },
  {
   "cell_type": "code",
   "execution_count": 69,
   "id": "dfdceb1f",
   "metadata": {},
   "outputs": [
    {
     "data": {
      "text/html": [
       "<div>\n",
       "<style scoped>\n",
       "    .dataframe tbody tr th:only-of-type {\n",
       "        vertical-align: middle;\n",
       "    }\n",
       "\n",
       "    .dataframe tbody tr th {\n",
       "        vertical-align: top;\n",
       "    }\n",
       "\n",
       "    .dataframe thead th {\n",
       "        text-align: right;\n",
       "    }\n",
       "</style>\n",
       "<table border=\"1\" class=\"dataframe\">\n",
       "  <thead>\n",
       "    <tr style=\"text-align: right;\">\n",
       "      <th></th>\n",
       "      <th>movie_title</th>\n",
       "      <th>release_date</th>\n",
       "      <th>genre</th>\n",
       "      <th>mpaa_rating</th>\n",
       "      <th>total_gross</th>\n",
       "      <th>inflation_adjusted_gross</th>\n",
       "    </tr>\n",
       "  </thead>\n",
       "  <tbody>\n",
       "    <tr>\n",
       "      <th>0</th>\n",
       "      <td>Snow White and the Seven Dwarfs</td>\n",
       "      <td>1937-12-21</td>\n",
       "      <td>Musical</td>\n",
       "      <td>G</td>\n",
       "      <td>184925485</td>\n",
       "      <td>5228953251</td>\n",
       "    </tr>\n",
       "    <tr>\n",
       "      <th>1</th>\n",
       "      <td>Pinocchio</td>\n",
       "      <td>1940-02-09</td>\n",
       "      <td>Adventure</td>\n",
       "      <td>G</td>\n",
       "      <td>84300000</td>\n",
       "      <td>2188229052</td>\n",
       "    </tr>\n",
       "    <tr>\n",
       "      <th>2</th>\n",
       "      <td>Fantasia</td>\n",
       "      <td>1940-11-13</td>\n",
       "      <td>Musical</td>\n",
       "      <td>G</td>\n",
       "      <td>83320000</td>\n",
       "      <td>2187090808</td>\n",
       "    </tr>\n",
       "    <tr>\n",
       "      <th>3</th>\n",
       "      <td>Song of the South</td>\n",
       "      <td>1946-11-12</td>\n",
       "      <td>Adventure</td>\n",
       "      <td>G</td>\n",
       "      <td>65000000</td>\n",
       "      <td>1078510579</td>\n",
       "    </tr>\n",
       "    <tr>\n",
       "      <th>4</th>\n",
       "      <td>Cinderella</td>\n",
       "      <td>1950-02-15</td>\n",
       "      <td>Drama</td>\n",
       "      <td>G</td>\n",
       "      <td>85000000</td>\n",
       "      <td>920608730</td>\n",
       "    </tr>\n",
       "  </tbody>\n",
       "</table>\n",
       "</div>"
      ],
      "text/plain": [
       "                       movie_title release_date      genre mpaa_rating  \\\n",
       "0  Snow White and the Seven Dwarfs   1937-12-21    Musical           G   \n",
       "1                        Pinocchio   1940-02-09  Adventure           G   \n",
       "2                         Fantasia   1940-11-13    Musical           G   \n",
       "3                Song of the South   1946-11-12  Adventure           G   \n",
       "4                       Cinderella   1950-02-15      Drama           G   \n",
       "\n",
       "   total_gross  inflation_adjusted_gross  \n",
       "0    184925485                5228953251  \n",
       "1     84300000                2188229052  \n",
       "2     83320000                2187090808  \n",
       "3     65000000                1078510579  \n",
       "4     85000000                 920608730  "
      ]
     },
     "execution_count": 69,
     "metadata": {},
     "output_type": "execute_result"
    }
   ],
   "source": [
    "disney_data.head()"
   ]
  },
  {
   "cell_type": "markdown",
   "id": "59c9000c",
   "metadata": {},
   "source": [
    "- data.info()\n",
    "    - Review the number of data fields and if there is any null data\n",
    "        - Based on the data, there are null fields in genre and mpaa rating.\n",
    "        - Due to the uniqueness of these ordinal data fields, they cannot be filled.\n",
    "        - During evaluation of these columns these null fields will be excluded."
   ]
  },
  {
   "cell_type": "code",
   "execution_count": 70,
   "id": "2c2a6e19",
   "metadata": {},
   "outputs": [
    {
     "name": "stdout",
     "output_type": "stream",
     "text": [
      "<class 'pandas.core.frame.DataFrame'>\n",
      "RangeIndex: 579 entries, 0 to 578\n",
      "Data columns (total 6 columns):\n",
      " #   Column                    Non-Null Count  Dtype \n",
      "---  ------                    --------------  ----- \n",
      " 0   movie_title               579 non-null    object\n",
      " 1   release_date              579 non-null    object\n",
      " 2   genre                     562 non-null    object\n",
      " 3   mpaa_rating               523 non-null    object\n",
      " 4   total_gross               579 non-null    int64 \n",
      " 5   inflation_adjusted_gross  579 non-null    int64 \n",
      "dtypes: int64(2), object(4)\n",
      "memory usage: 27.3+ KB\n"
     ]
    }
   ],
   "source": [
    "disney_data.info()"
   ]
  },
  {
   "cell_type": "markdown",
   "id": "cfe016e0",
   "metadata": {},
   "source": [
    "## Prepare Data"
   ]
  },
  {
   "cell_type": "markdown",
   "id": "9fb6c35f",
   "metadata": {},
   "source": [
    "### Wrangle"
   ]
  },
  {
   "cell_type": "markdown",
   "id": "ae312f9d",
   "metadata": {},
   "source": [
    "- value_counts()\n",
    "    - Returns unique values in descending order and excludes null values.\n",
    "    - Important in determination of values present for the columns with null values (genre, mpaa rating) before coding."
   ]
  },
  {
   "cell_type": "code",
   "execution_count": 71,
   "id": "8a8b9b1f",
   "metadata": {},
   "outputs": [
    {
     "data": {
      "text/plain": [
       "Comedy                 182\n",
       "Adventure              129\n",
       "Drama                  114\n",
       "Action                  40\n",
       "Thriller/Suspense       24\n",
       "Romantic Comedy         23\n",
       "Documentary             16\n",
       "Musical                 16\n",
       "Western                  7\n",
       "Horror                   6\n",
       "Black Comedy             3\n",
       "Concert/Performance      2\n",
       "Name: genre, dtype: int64"
      ]
     },
     "execution_count": 71,
     "metadata": {},
     "output_type": "execute_result"
    }
   ],
   "source": [
    "disney_data['genre'].value_counts()"
   ]
  },
  {
   "cell_type": "code",
   "execution_count": 72,
   "id": "505a79ec",
   "metadata": {},
   "outputs": [
    {
     "data": {
      "text/plain": [
       "PG           187\n",
       "PG-13        145\n",
       "R            102\n",
       "G             86\n",
       "Not Rated      3\n",
       "Name: mpaa_rating, dtype: int64"
      ]
     },
     "execution_count": 72,
     "metadata": {},
     "output_type": "execute_result"
    }
   ],
   "source": [
    "disney_data['mpaa_rating'].value_counts()"
   ]
  },
  {
   "cell_type": "markdown",
   "id": "a5915b9a",
   "metadata": {},
   "source": [
    "### Clean"
   ]
  },
  {
   "cell_type": "markdown",
   "id": "fd4631b8",
   "metadata": {},
   "source": [
    "- data.rename\n",
    "    - Rename columns from dataset titles to column headings"
   ]
  },
  {
   "cell_type": "code",
   "execution_count": 73,
   "id": "36efc4aa",
   "metadata": {},
   "outputs": [
    {
     "data": {
      "text/html": [
       "<div>\n",
       "<style scoped>\n",
       "    .dataframe tbody tr th:only-of-type {\n",
       "        vertical-align: middle;\n",
       "    }\n",
       "\n",
       "    .dataframe tbody tr th {\n",
       "        vertical-align: top;\n",
       "    }\n",
       "\n",
       "    .dataframe thead th {\n",
       "        text-align: right;\n",
       "    }\n",
       "</style>\n",
       "<table border=\"1\" class=\"dataframe\">\n",
       "  <thead>\n",
       "    <tr style=\"text-align: right;\">\n",
       "      <th></th>\n",
       "      <th>Movie Title</th>\n",
       "      <th>Release Date</th>\n",
       "      <th>Genre</th>\n",
       "      <th>MPAA Rating</th>\n",
       "      <th>Total Gross</th>\n",
       "      <th>Inflation Adjusted Gross</th>\n",
       "    </tr>\n",
       "  </thead>\n",
       "  <tbody>\n",
       "    <tr>\n",
       "      <th>0</th>\n",
       "      <td>Snow White and the Seven Dwarfs</td>\n",
       "      <td>1937-12-21</td>\n",
       "      <td>Musical</td>\n",
       "      <td>G</td>\n",
       "      <td>184925485</td>\n",
       "      <td>5228953251</td>\n",
       "    </tr>\n",
       "    <tr>\n",
       "      <th>1</th>\n",
       "      <td>Pinocchio</td>\n",
       "      <td>1940-02-09</td>\n",
       "      <td>Adventure</td>\n",
       "      <td>G</td>\n",
       "      <td>84300000</td>\n",
       "      <td>2188229052</td>\n",
       "    </tr>\n",
       "    <tr>\n",
       "      <th>2</th>\n",
       "      <td>Fantasia</td>\n",
       "      <td>1940-11-13</td>\n",
       "      <td>Musical</td>\n",
       "      <td>G</td>\n",
       "      <td>83320000</td>\n",
       "      <td>2187090808</td>\n",
       "    </tr>\n",
       "    <tr>\n",
       "      <th>3</th>\n",
       "      <td>Song of the South</td>\n",
       "      <td>1946-11-12</td>\n",
       "      <td>Adventure</td>\n",
       "      <td>G</td>\n",
       "      <td>65000000</td>\n",
       "      <td>1078510579</td>\n",
       "    </tr>\n",
       "    <tr>\n",
       "      <th>4</th>\n",
       "      <td>Cinderella</td>\n",
       "      <td>1950-02-15</td>\n",
       "      <td>Drama</td>\n",
       "      <td>G</td>\n",
       "      <td>85000000</td>\n",
       "      <td>920608730</td>\n",
       "    </tr>\n",
       "  </tbody>\n",
       "</table>\n",
       "</div>"
      ],
      "text/plain": [
       "                       Movie Title Release Date      Genre MPAA Rating  \\\n",
       "0  Snow White and the Seven Dwarfs   1937-12-21    Musical           G   \n",
       "1                        Pinocchio   1940-02-09  Adventure           G   \n",
       "2                         Fantasia   1940-11-13    Musical           G   \n",
       "3                Song of the South   1946-11-12  Adventure           G   \n",
       "4                       Cinderella   1950-02-15      Drama           G   \n",
       "\n",
       "   Total Gross  Inflation Adjusted Gross  \n",
       "0    184925485                5228953251  \n",
       "1     84300000                2188229052  \n",
       "2     83320000                2187090808  \n",
       "3     65000000                1078510579  \n",
       "4     85000000                 920608730  "
      ]
     },
     "execution_count": 73,
     "metadata": {},
     "output_type": "execute_result"
    }
   ],
   "source": [
    "new_name = {'movie_title' : 'Movie Title', \"release_date\" : 'Release Date', 'genre' : 'Genre', 'mpaa_rating' : 'MPAA Rating', 'total_gross' : 'Total Gross', 'inflation_adjusted_gross' : 'Inflation Adjusted Gross'}\n",
    "\n",
    "disney_data.rename(columns= new_name, inplace=True)\n",
    "disney_data.head()"
   ]
  },
  {
   "cell_type": "markdown",
   "id": "e7911b83",
   "metadata": {},
   "source": [
    "## Question 1. A MPAA Rating of PG has a greater gross revenue with inflation over other MPAA Ratings.\n",
    "\n",
    "### Analyze"
   ]
  },
  {
   "cell_type": "markdown",
   "id": "2a7a1a5a",
   "metadata": {},
   "source": [
    "- setup the dataframe"
   ]
  },
  {
   "cell_type": "code",
   "execution_count": 74,
   "id": "4df58285",
   "metadata": {},
   "outputs": [
    {
     "name": "stdout",
     "output_type": "stream",
     "text": [
      "                         movie_title release_date      genre mpaa_rating  \\\n",
      "0    Snow White and the Seven Dwarfs   1937-12-21    Musical           G   \n",
      "1                          Pinocchio   1940-02-09  Adventure           G   \n",
      "2                           Fantasia   1940-11-13    Musical           G   \n",
      "3                  Song of the South   1946-11-12  Adventure           G   \n",
      "4                         Cinderella   1950-02-15      Drama           G   \n",
      "..                               ...          ...        ...         ...   \n",
      "574         The Light Between Oceans   2016-09-02      Drama       PG-13   \n",
      "575                   Queen of Katwe   2016-09-23      Drama          PG   \n",
      "576                   Doctor Strange   2016-11-04  Adventure       PG-13   \n",
      "577                            Moana   2016-11-23  Adventure          PG   \n",
      "578     Rogue One: A Star Wars Story   2016-12-16  Adventure       PG-13   \n",
      "\n",
      "     total_gross  inflation_adjusted_gross  \n",
      "0      184925485                5228953251  \n",
      "1       84300000                2188229052  \n",
      "2       83320000                2187090808  \n",
      "3       65000000                1078510579  \n",
      "4       85000000                 920608730  \n",
      "..           ...                       ...  \n",
      "574     12545979                  12545979  \n",
      "575      8874389                   8874389  \n",
      "576    232532923                 232532923  \n",
      "577    246082029                 246082029  \n",
      "578    529483936                 529483936  \n",
      "\n",
      "[579 rows x 6 columns]\n"
     ]
    }
   ],
   "source": [
    "df = pd.read_csv(\"/Users/Judy/Downloads/disney_movies_total_gross.csv\")\n",
    "print(df)"
   ]
  },
  {
   "cell_type": "markdown",
   "id": "c8259f51",
   "metadata": {},
   "source": [
    "- Find the mean of the non-null dataframe values within the column mpaa_rating"
   ]
  },
  {
   "cell_type": "code",
   "execution_count": 101,
   "id": "b6bc6a09",
   "metadata": {},
   "outputs": [
    {
     "name": "stdout",
     "output_type": "stream",
     "text": [
      "  mpaa_rating          total_gross  inflation_adjusted_gross\n",
      "0           G        92,090,612.71            291,260,995.01\n",
      "1   Not Rated        50,462,589.67            299,873,412.67\n",
      "2          PG        73,625,210.54            101,541,433.59\n",
      "3       PG-13        81,180,741.99            102,948,584.00\n",
      "4           R        29,365,358.78             55,305,805.55\n"
     ]
    }
   ],
   "source": [
    "grouped_df = df.groupby(\"mpaa_rating\")\n",
    "mean_df = grouped_df.mean()\n",
    "mean_df = mean_df.reset_index()\n",
    "pd.options.display.float_format = '{:20,.2f}'.format\n",
    "\n",
    "print(mean_df)"
   ]
  },
  {
   "cell_type": "markdown",
   "id": "3cf89883",
   "metadata": {},
   "source": [
    "## Question 2. Highest Grossing Films are within the Comedy Genre\n",
    "### Analyze"
   ]
  },
  {
   "cell_type": "markdown",
   "id": "34080204",
   "metadata": {},
   "source": [
    "- setup the dataframe"
   ]
  },
  {
   "cell_type": "code",
   "execution_count": 23,
   "id": "6a4482cc",
   "metadata": {},
   "outputs": [
    {
     "name": "stdout",
     "output_type": "stream",
     "text": [
      "                         movie_title release_date      genre mpaa_rating  \\\n",
      "0    Snow White and the Seven Dwarfs   1937-12-21    Musical           G   \n",
      "1                          Pinocchio   1940-02-09  Adventure           G   \n",
      "2                           Fantasia   1940-11-13    Musical           G   \n",
      "3                  Song of the South   1946-11-12  Adventure           G   \n",
      "4                         Cinderella   1950-02-15      Drama           G   \n",
      "..                               ...          ...        ...         ...   \n",
      "574         The Light Between Oceans   2016-09-02      Drama       PG-13   \n",
      "575                   Queen of Katwe   2016-09-23      Drama          PG   \n",
      "576                   Doctor Strange   2016-11-04  Adventure       PG-13   \n",
      "577                            Moana   2016-11-23  Adventure          PG   \n",
      "578     Rogue One: A Star Wars Story   2016-12-16  Adventure       PG-13   \n",
      "\n",
      "     total_gross  inflation_adjusted_gross  \n",
      "0      184925485                5228953251  \n",
      "1       84300000                2188229052  \n",
      "2       83320000                2187090808  \n",
      "3       65000000                1078510579  \n",
      "4       85000000                 920608730  \n",
      "..           ...                       ...  \n",
      "574     12545979                  12545979  \n",
      "575      8874389                   8874389  \n",
      "576    232532923                 232532923  \n",
      "577    246082029                 246082029  \n",
      "578    529483936                 529483936  \n",
      "\n",
      "[579 rows x 6 columns]\n"
     ]
    }
   ],
   "source": [
    "df = pd.read_csv(\"/Users/Judy/Downloads/disney_movies.csv\")\n",
    "print(df)"
   ]
  },
  {
   "cell_type": "markdown",
   "id": "4bec9b76",
   "metadata": {},
   "source": [
    "- Find the mean of the non-null dataframe values within the column genre"
   ]
  },
  {
   "cell_type": "code",
   "execution_count": 80,
   "id": "51355111",
   "metadata": {},
   "outputs": [
    {
     "name": "stdout",
     "output_type": "stream",
     "text": [
      "                  genre          total_gross  inflation_adjusted_gross\n",
      "0                Action       104,614,082.05            137,473,419.65\n",
      "1             Adventure       127,047,050.02            190,397,412.08\n",
      "2          Black Comedy        32,514,404.00             52,243,491.67\n",
      "3                Comedy        44,613,294.93             84,667,730.29\n",
      "4   Concert/Performance        51,728,233.00             57,410,839.00\n",
      "5           Documentary        11,292,851.19             12,718,026.12\n",
      "6                 Drama        36,026,078.68             71,893,021.79\n",
      "7                Horror        14,511,478.67             23,413,848.67\n",
      "8               Musical        72,330,259.69            603,597,861.00\n",
      "9       Romantic Comedy        50,095,950.22             77,777,084.04\n",
      "10    Thriller/Suspense        58,616,938.29             89,653,789.75\n",
      "11              Western        51,287,351.29             73,815,706.57\n"
     ]
    }
   ],
   "source": [
    "grouped_df = df.groupby(\"genre\")\n",
    "mean_df = grouped_df.mean()\n",
    "mean_df = mean_df.reset_index()\n",
    "pd.options.display.float_format = '{:20,.2f}'.format\n",
    "\n",
    "print(mean_df)"
   ]
  },
  {
   "cell_type": "markdown",
   "id": "653b3bf9",
   "metadata": {},
   "source": [
    "## Visualize\n",
    "\n",
    "### Average Total Gross Per Disney Film by Genre"
   ]
  },
  {
   "cell_type": "markdown",
   "id": "221e2617",
   "metadata": {},
   "source": [
    "- visualize in bar chart format of the total gross of disney movies from 1937 - 2016 by genre"
   ]
  },
  {
   "cell_type": "code",
   "execution_count": 89,
   "id": "be742ecf",
   "metadata": {},
   "outputs": [
    {
     "data": {
      "image/png": "[encoded data removed]",
      "text/plain": [
       "<Figure size 1440x720 with 1 Axes>"
      ]
     },
     "metadata": {
      "needs_background": "light"
     },
     "output_type": "display_data"
    }
   ],
   "source": [
    "import matplotlib.pyplot as plt\n",
    "\n",
    "grouped_df = df.groupby(\"genre\")\n",
    "mean_df = grouped_df.mean()\n",
    "mean_df = mean_df.reset_index()\n",
    "pd.options.display.float_format = '{:20,.2f}'.format\n",
    "\n",
    "plt.figure(figsize=(20,10))\n",
    "plt.bar(df['genre'],df['total_gross'])\n",
    "plt.title('Disney Movie Gross by Genre')\n",
    "plt.xlabel('Genre')\n",
    "plt.ylabel('Total Gross')\n",
    "plt.xticks(rotation=90)\n",
    "plt.show()"
   ]
  },
  {
   "cell_type": "markdown",
   "id": "3b979462",
   "metadata": {},
   "source": [
    "### Explain the visualisation\n",
    "- Based on total gross of all disney movies from 1937 to 2016, the highest gross was with movies of the genre adventure at $190 million.\n",
    "- Comedy is located in the lower half of total gross revenue by genre"
   ]
  },
  {
   "cell_type": "markdown",
   "id": "5fc9e388",
   "metadata": {},
   "source": [
    "## Question 3. Disney Films Released before 01-01-1986 have a lower gross per film compared to those released during and after this date\n",
    "### Analyze"
   ]
  },
  {
   "cell_type": "markdown",
   "id": "da3c3595",
   "metadata": {},
   "source": [
    "- setup the dataframe"
   ]
  },
  {
   "cell_type": "code",
   "execution_count": 91,
   "id": "a5aeb988",
   "metadata": {},
   "outputs": [
    {
     "name": "stdout",
     "output_type": "stream",
     "text": [
      "                         movie_title release_date      genre mpaa_rating  \\\n",
      "0    Snow White and the Seven Dwarfs   1937-12-21    Musical           G   \n",
      "1                          Pinocchio   1940-02-09  Adventure           G   \n",
      "2                           Fantasia   1940-11-13    Musical           G   \n",
      "3                  Song of the South   1946-11-12  Adventure           G   \n",
      "4                         Cinderella   1950-02-15      Drama           G   \n",
      "..                               ...          ...        ...         ...   \n",
      "574         The Light Between Oceans   2016-09-02      Drama       PG-13   \n",
      "575                   Queen of Katwe   2016-09-23      Drama          PG   \n",
      "576                   Doctor Strange   2016-11-04  Adventure       PG-13   \n",
      "577                            Moana   2016-11-23  Adventure          PG   \n",
      "578     Rogue One: A Star Wars Story   2016-12-16  Adventure       PG-13   \n",
      "\n",
      "     total_gross  inflation_adjusted_gross  \n",
      "0      184925485                5228953251  \n",
      "1       84300000                2188229052  \n",
      "2       83320000                2187090808  \n",
      "3       65000000                1078510579  \n",
      "4       85000000                 920608730  \n",
      "..           ...                       ...  \n",
      "574     12545979                  12545979  \n",
      "575      8874389                   8874389  \n",
      "576    232532923                 232532923  \n",
      "577    246082029                 246082029  \n",
      "578    529483936                 529483936  \n",
      "\n",
      "[579 rows x 6 columns]\n"
     ]
    }
   ],
   "source": [
    "df = pd.read_csv(\"/Users/Judy/Downloads/disney_movies_total_gross.csv\")\n",
    "print(df)"
   ]
  },
  {
   "cell_type": "markdown",
   "id": "782556d8",
   "metadata": {},
   "source": [
    "- Filtered results based on date range of 01/01/1937 - 12/31/1967 for period of influence by Walt Disney"
   ]
  },
  {
   "cell_type": "code",
   "execution_count": 109,
   "id": "84e82024",
   "metadata": {},
   "outputs": [
    {
     "name": "stdout",
     "output_type": "stream",
     "text": [
      "                        movie_title release_date      genre mpaa_rating  \\\n",
      "0   Snow White and the Seven Dwarfs   1937-12-21    Musical           G   \n",
      "1                         Pinocchio   1940-02-09  Adventure           G   \n",
      "2                          Fantasia   1940-11-13    Musical           G   \n",
      "3                 Song of the South   1946-11-12  Adventure           G   \n",
      "4                        Cinderella   1950-02-15      Drama           G   \n",
      "5      20,000 Leagues Under the Sea   1954-12-23  Adventure         NaN   \n",
      "6                Lady and the Tramp   1955-06-22      Drama           G   \n",
      "7                   Sleeping Beauty   1959-01-29      Drama         NaN   \n",
      "8                    101 Dalmatians   1961-01-25     Comedy           G   \n",
      "9       The Absent Minded Professor   1961-03-16     Comedy         NaN   \n",
      "10                 Babes in Toyland   1961-12-14    Musical           G   \n",
      "11                      Bon Voyage!   1962-05-17     Comedy   Not Rated   \n",
      "12           The Sword in the Stone   1963-12-25  Adventure         NaN   \n",
      "13                  The Jungle Book   1967-10-18    Musical   Not Rated   \n",
      "\n",
      "    total_gross  inflation_adjusted_gross       Dates  \n",
      "0     184925485                5228953251  1937-12-21  \n",
      "1      84300000                2188229052  1940-02-09  \n",
      "2      83320000                2187090808  1940-11-13  \n",
      "3      65000000                1078510579  1946-11-12  \n",
      "4      85000000                 920608730  1950-02-15  \n",
      "5      28200000                 528279994  1954-12-23  \n",
      "6      93600000                1236035515  1955-06-22  \n",
      "7       9464608                  21505832  1959-01-29  \n",
      "8     153000000                1362870985  1961-01-25  \n",
      "9      25381407                 310094574  1961-03-16  \n",
      "10     10218316                 124841160  1961-12-14  \n",
      "11      9230769                 109581646  1962-05-17  \n",
      "12     22182353                 153870834  1963-12-25  \n",
      "13    141843000                 789612346  1967-10-18  \n"
     ]
    }
   ],
   "source": [
    "df = pd.read_csv(\"/Users/Judy/Downloads/disney_movies_total_gross.csv\")\n",
    "df['Dates'] = pd.to_datetime(df['release_date']).dt.date\n",
    "\n",
    "filtereddate_df = df.loc[(df['release_date'] >= '1937-01-01')\n",
    "                     & (df['release_date'] < '1968-01-01')]\n",
    "\n",
    "print(filtereddate_df)"
   ]
  },
  {
   "cell_type": "markdown",
   "id": "1e3fd3c0",
   "metadata": {},
   "source": [
    "- Mean of inflation Adjusted Gross Revenue for films from 01/01/1937 - 12/31/1967"
   ]
  },
  {
   "cell_type": "code",
   "execution_count": 110,
   "id": "d343bdb6",
   "metadata": {},
   "outputs": [
    {
     "data": {
      "text/plain": [
       "1160006093.2857144"
      ]
     },
     "execution_count": 110,
     "metadata": {},
     "output_type": "execute_result"
    }
   ],
   "source": [
    "filtereddate_df['inflation_adjusted_gross'].mean()"
   ]
  },
  {
   "cell_type": "markdown",
   "id": "8a17e4f7",
   "metadata": {},
   "source": [
    "- Filtered results based on date range of 01/01/1968 - 12/31/1985 for period after Disney and before Eisner"
   ]
  },
  {
   "cell_type": "code",
   "execution_count": 111,
   "id": "64f08592",
   "metadata": {},
   "outputs": [
    {
     "name": "stdout",
     "output_type": "stream",
     "text": [
      "                               movie_title release_date      genre  \\\n",
      "14                      Blackbeard's Ghost   1968-02-08     Comedy   \n",
      "15                          The Aristocats   1970-04-24    Musical   \n",
      "16                            The Boatniks   1970-07-01     Comedy   \n",
      "17                Bedknobs and Broomsticks   1971-10-07    Musical   \n",
      "18                 The Apple Dumpling Gang   1975-07-01     Comedy   \n",
      "19                           Freaky Friday   1977-01-21     Comedy   \n",
      "20  The Many Adventures of Winnie the Pooh   1977-03-11        NaN   \n",
      "21                            The Rescuers   1977-06-22  Adventure   \n",
      "22              Herbie Goes to Monte Carlo   1977-06-24        NaN   \n",
      "23                          The Black Hole   1979-12-21        NaN   \n",
      "24                        Midnight Madness   1980-02-08        NaN   \n",
      "25           The Last Flight of Noah’s Ark   1980-06-25        NaN   \n",
      "26                The Devil and Max Devlin   1981-01-01        NaN   \n",
      "27                                     Amy   1981-03-20      Drama   \n",
      "28                   The Fox and the Hound   1981-07-10     Comedy   \n",
      "29                               Condorman   1981-08-07     Action   \n",
      "30                          Night Crossing   1982-02-05      Drama   \n",
      "31                                    Tron   1982-07-09     Action   \n",
      "32                                     Tex   1982-11-19      Drama   \n",
      "33                              Trenchcoat   1983-03-11     Comedy   \n",
      "34         Something Wicked This Way Comes   1983-04-29     Horror   \n",
      "35                          Never Cry Wolf   1983-10-07      Drama   \n",
      "36                           Running Brave   1983-11-04      Drama   \n",
      "37                                  Splash   1984-03-09     Comedy   \n",
      "38                                 Country   1984-09-29      Drama   \n",
      "39         Baby: Secret of the Lost Legend   1985-03-22  Adventure   \n",
      "40                            Return to Oz   1985-06-21  Adventure   \n",
      "41                      The Black Cauldron   1985-07-24  Adventure   \n",
      "42                      My Science Project   1985-08-09     Comedy   \n",
      "43               The Journey of Natty Gann   1985-09-27      Drama   \n",
      "44                     One Magic Christmas   1985-11-22      Drama   \n",
      "\n",
      "   mpaa_rating  total_gross  inflation_adjusted_gross       Dates  \n",
      "14         NaN     21540050                 138612686  1968-02-08  \n",
      "15           G     55675257                 255161499  1970-04-24  \n",
      "16         NaN     18607492                 101200742  1970-07-01  \n",
      "17         NaN     17871174                  91305448  1971-10-07  \n",
      "18         NaN     31916500                 131246872  1975-07-01  \n",
      "19         NaN     25942000                  98067733  1977-01-21  \n",
      "20         NaN            0                         0  1977-03-11  \n",
      "21         NaN     48775599                 159743914  1977-06-22  \n",
      "22         NaN     28000000                 105847527  1977-06-24  \n",
      "23         NaN     35841901                 120377374  1979-12-21  \n",
      "24         NaN      2900000                   9088096  1980-02-08  \n",
      "25         NaN     11000000                  34472116  1980-06-25  \n",
      "26         NaN     16000000                  48517980  1981-01-01  \n",
      "27         NaN            0                         0  1981-03-20  \n",
      "28         NaN     43899231                 133118889  1981-07-10  \n",
      "29         NaN            0                         0  1981-08-07  \n",
      "30         NaN      4500000                  12903059  1982-02-05  \n",
      "31         NaN     26918576                  77184895  1982-07-09  \n",
      "32         NaN      7199408                  20643199  1982-11-19  \n",
      "33         NaN      4304286                  11519089  1983-03-11  \n",
      "34         NaN      5656087                  15136765  1983-04-29  \n",
      "35         NaN     27668764                  70669955  1983-10-07  \n",
      "36         NaN      1204595                   3223725  1983-11-04  \n",
      "37          PG     62599495                 157057661  1984-03-09  \n",
      "38         NaN      8400000                  21075000  1984-09-29  \n",
      "39         NaN     14276095                  33900697  1985-03-22  \n",
      "40         NaN     10618813                  25215934  1985-06-21  \n",
      "41         NaN     21288692                  50553142  1985-07-24  \n",
      "42         NaN      4100000                   9736051  1985-08-09  \n",
      "43         NaN      9468512                  22302956  1985-09-27  \n",
      "44         NaN     13229514                  31415432  1985-11-22  \n"
     ]
    }
   ],
   "source": [
    "df = pd.read_csv(\"/Users/Judy/Downloads/disney_movies_total_gross.csv\")\n",
    "df['Dates'] = pd.to_datetime(df['release_date']).dt.date\n",
    "\n",
    "filtereddipdate_df = df.loc[(df['release_date'] >= '1968-01-01')\n",
    "                     & (df['release_date'] < '1986-01-01')]\n",
    "\n",
    "print(filtereddipdate_df)"
   ]
  },
  {
   "cell_type": "markdown",
   "id": "cde308b1",
   "metadata": {},
   "source": [
    "- Mean of inflation Adjusted Gross Revenue for films from 01/01/1968 - 12/31/1985"
   ]
  },
  {
   "cell_type": "code",
   "execution_count": 112,
   "id": "160e8137",
   "metadata": {},
   "outputs": [
    {
     "data": {
      "text/plain": [
       "64170917.29032258"
      ]
     },
     "execution_count": 112,
     "metadata": {},
     "output_type": "execute_result"
    }
   ],
   "source": [
    "filtereddipdate_df['inflation_adjusted_gross'].mean()"
   ]
  },
  {
   "cell_type": "markdown",
   "id": "44207b30",
   "metadata": {},
   "source": [
    "- Filtered results based on date range of 01/01/1986 - 12/31/2021 for period during and after Eisner"
   ]
  },
  {
   "cell_type": "code",
   "execution_count": 104,
   "id": "174cddbc",
   "metadata": {},
   "outputs": [
    {
     "name": "stdout",
     "output_type": "stream",
     "text": [
      "                       movie_title release_date      genre mpaa_rating  \\\n",
      "45   Down and Out in Beverly Hills   1986-01-31     Comedy           R   \n",
      "46                        Off Beat   1986-04-11     Comedy         NaN   \n",
      "47                 Ruthless People   1986-06-27     Comedy           R   \n",
      "48       The Great Mouse Detective   1986-07-02  Adventure         NaN   \n",
      "49         Flight of the Navigator   1986-07-30  Adventure         NaN   \n",
      "..                             ...          ...        ...         ...   \n",
      "574       The Light Between Oceans   2016-09-02      Drama       PG-13   \n",
      "575                 Queen of Katwe   2016-09-23      Drama          PG   \n",
      "576                 Doctor Strange   2016-11-04  Adventure       PG-13   \n",
      "577                          Moana   2016-11-23  Adventure          PG   \n",
      "578   Rogue One: A Star Wars Story   2016-12-16  Adventure       PG-13   \n",
      "\n",
      "     total_gross  inflation_adjusted_gross       Dates  \n",
      "45      62134225                 141183693  1986-01-31  \n",
      "46       4842778                  11003932  1986-04-11  \n",
      "47      71624879                 162748712  1986-06-27  \n",
      "48      23605534                  53637367  1986-07-02  \n",
      "49      18564613                  42183197  1986-07-30  \n",
      "..           ...                       ...         ...  \n",
      "574     12545979                  12545979  2016-09-02  \n",
      "575      8874389                   8874389  2016-09-23  \n",
      "576    232532923                 232532923  2016-11-04  \n",
      "577    246082029                 246082029  2016-11-23  \n",
      "578    529483936                 529483936  2016-12-16  \n",
      "\n",
      "[534 rows x 7 columns]\n"
     ]
    }
   ],
   "source": [
    "df = pd.read_csv(\"/Users/Judy/Downloads/disney_movies_total_gross.csv\")\n",
    "df['Dates'] = pd.to_datetime(df['release_date']).dt.date\n",
    "\n",
    "filteredinvdate_df = df.loc[(df['release_date'] >= '1986-01-01')\n",
    "                     & (df['release_date'] < '2021-01-01')]\n",
    "\n",
    "print(filteredinvdate_df)"
   ]
  },
  {
   "cell_type": "markdown",
   "id": "dc3ba30d",
   "metadata": {},
   "source": [
    "- Mean of inflation Adjusted Gross Revenue for films from 01/01/1986 - 12/31/2021"
   ]
  },
  {
   "cell_type": "code",
   "execution_count": 105,
   "id": "bf6e7420",
   "metadata": {},
   "outputs": [
    {
     "data": {
      "text/plain": [
       "94633178.38014981"
      ]
     },
     "execution_count": 105,
     "metadata": {},
     "output_type": "execute_result"
    }
   ],
   "source": [
    "filteredinvdate_df['inflation_adjusted_gross'].mean()"
   ]
  },
  {
   "cell_type": "markdown",
   "id": "0923c208",
   "metadata": {},
   "source": [
    "## Evaluation\n",
    "\n",
    "- Findings\n",
    "    - Question 1\n",
    "        - Hypothesis is true\n",
    "        - G rating resulted in gross revenue adjusted for inflation of 291,260,995\n",
    "        - G rating gross revenue is higher than the other MPAA ratings\n",
    "    - Question 2\n",
    "        - Hypothesis is false\n",
    "        - Greatest gross is for adventure at 127,047,050\n",
    "        - Comedy gross is at 44,613,295\n",
    "    - Question 3\n",
    "        - Hypothesis is false\n",
    "        - Before 01/01/1968 inflation adjusted gross is highest at 1,160,006,093\n",
    "        - From 01/01/1968 - 12/31/1986 is 64,170,917 and after 01/01/1986 is 94,633,178"
   ]
  }
 ],
 "metadata": {
  "kernelspec": {
   "display_name": "Python 3",
   "language": "python",
   "name": "python3"
  },
  "language_info": {
   "codemirror_mode": {
    "name": "ipython",
    "version": 3
   },
   "file_extension": ".py",
   "mimetype": "text/x-python",
   "name": "python",
   "nbconvert_exporter": "python",
   "pygments_lexer": "ipython3",
   "version": "3.8.8"
  }
 },
 "nbformat": 4,
 "nbformat_minor": 5
}
